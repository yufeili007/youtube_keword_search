{
  "nbformat": 4,
  "nbformat_minor": 0,
  "metadata": {
    "colab": {
      "provenance": []
    },
    "kernelspec": {
      "name": "python3",
      "display_name": "Python 3"
    },
    "language_info": {
      "name": "python"
    }
  },
  "cells": [
    {
      "cell_type": "code",
      "execution_count": 1,
      "metadata": {
        "colab": {
          "base_uri": "https://localhost:8080/"
        },
        "id": "edu1CMqjPiJA",
        "outputId": "189ffaaa-9057-4457-e853-cc6187ee8004"
      },
      "outputs": [
        {
          "output_type": "stream",
          "name": "stdout",
          "text": [
            "Requirement already satisfied: google-api-python-client in /usr/local/lib/python3.10/dist-packages (2.84.0)\n",
            "Requirement already satisfied: pandas in /usr/local/lib/python3.10/dist-packages (1.5.3)\n",
            "Requirement already satisfied: httplib2<1dev,>=0.15.0 in /usr/local/lib/python3.10/dist-packages (from google-api-python-client) (0.22.0)\n",
            "Requirement already satisfied: google-auth<3.0.0dev,>=1.19.0 in /usr/local/lib/python3.10/dist-packages (from google-api-python-client) (2.27.0)\n",
            "Requirement already satisfied: google-auth-httplib2>=0.1.0 in /usr/local/lib/python3.10/dist-packages (from google-api-python-client) (0.1.1)\n",
            "Requirement already satisfied: google-api-core!=2.0.*,!=2.1.*,!=2.2.*,!=2.3.0,<3.0.0dev,>=1.31.5 in /usr/local/lib/python3.10/dist-packages (from google-api-python-client) (2.11.1)\n",
            "Requirement already satisfied: uritemplate<5,>=3.0.1 in /usr/local/lib/python3.10/dist-packages (from google-api-python-client) (4.1.1)\n",
            "Requirement already satisfied: python-dateutil>=2.8.1 in /usr/local/lib/python3.10/dist-packages (from pandas) (2.8.2)\n",
            "Requirement already satisfied: pytz>=2020.1 in /usr/local/lib/python3.10/dist-packages (from pandas) (2023.4)\n",
            "Requirement already satisfied: numpy>=1.21.0 in /usr/local/lib/python3.10/dist-packages (from pandas) (1.25.2)\n",
            "Requirement already satisfied: googleapis-common-protos<2.0.dev0,>=1.56.2 in /usr/local/lib/python3.10/dist-packages (from google-api-core!=2.0.*,!=2.1.*,!=2.2.*,!=2.3.0,<3.0.0dev,>=1.31.5->google-api-python-client) (1.62.0)\n",
            "Requirement already satisfied: protobuf!=3.20.0,!=3.20.1,!=4.21.0,!=4.21.1,!=4.21.2,!=4.21.3,!=4.21.4,!=4.21.5,<5.0.0.dev0,>=3.19.5 in /usr/local/lib/python3.10/dist-packages (from google-api-core!=2.0.*,!=2.1.*,!=2.2.*,!=2.3.0,<3.0.0dev,>=1.31.5->google-api-python-client) (3.20.3)\n",
            "Requirement already satisfied: requests<3.0.0.dev0,>=2.18.0 in /usr/local/lib/python3.10/dist-packages (from google-api-core!=2.0.*,!=2.1.*,!=2.2.*,!=2.3.0,<3.0.0dev,>=1.31.5->google-api-python-client) (2.31.0)\n",
            "Requirement already satisfied: cachetools<6.0,>=2.0.0 in /usr/local/lib/python3.10/dist-packages (from google-auth<3.0.0dev,>=1.19.0->google-api-python-client) (5.3.2)\n",
            "Requirement already satisfied: pyasn1-modules>=0.2.1 in /usr/local/lib/python3.10/dist-packages (from google-auth<3.0.0dev,>=1.19.0->google-api-python-client) (0.3.0)\n",
            "Requirement already satisfied: rsa<5,>=3.1.4 in /usr/local/lib/python3.10/dist-packages (from google-auth<3.0.0dev,>=1.19.0->google-api-python-client) (4.9)\n",
            "Requirement already satisfied: pyparsing!=3.0.0,!=3.0.1,!=3.0.2,!=3.0.3,<4,>=2.4.2 in /usr/local/lib/python3.10/dist-packages (from httplib2<1dev,>=0.15.0->google-api-python-client) (3.1.1)\n",
            "Requirement already satisfied: six>=1.5 in /usr/local/lib/python3.10/dist-packages (from python-dateutil>=2.8.1->pandas) (1.16.0)\n",
            "Requirement already satisfied: pyasn1<0.6.0,>=0.4.6 in /usr/local/lib/python3.10/dist-packages (from pyasn1-modules>=0.2.1->google-auth<3.0.0dev,>=1.19.0->google-api-python-client) (0.5.1)\n",
            "Requirement already satisfied: charset-normalizer<4,>=2 in /usr/local/lib/python3.10/dist-packages (from requests<3.0.0.dev0,>=2.18.0->google-api-core!=2.0.*,!=2.1.*,!=2.2.*,!=2.3.0,<3.0.0dev,>=1.31.5->google-api-python-client) (3.3.2)\n",
            "Requirement already satisfied: idna<4,>=2.5 in /usr/local/lib/python3.10/dist-packages (from requests<3.0.0.dev0,>=2.18.0->google-api-core!=2.0.*,!=2.1.*,!=2.2.*,!=2.3.0,<3.0.0dev,>=1.31.5->google-api-python-client) (3.6)\n",
            "Requirement already satisfied: urllib3<3,>=1.21.1 in /usr/local/lib/python3.10/dist-packages (from requests<3.0.0.dev0,>=2.18.0->google-api-core!=2.0.*,!=2.1.*,!=2.2.*,!=2.3.0,<3.0.0dev,>=1.31.5->google-api-python-client) (2.0.7)\n",
            "Requirement already satisfied: certifi>=2017.4.17 in /usr/local/lib/python3.10/dist-packages (from requests<3.0.0.dev0,>=2.18.0->google-api-core!=2.0.*,!=2.1.*,!=2.2.*,!=2.3.0,<3.0.0dev,>=1.31.5->google-api-python-client) (2024.2.2)\n"
          ]
        }
      ],
      "source": [
        "!pip install google-api-python-client pandas\n",
        "from googleapiclient.discovery import build\n",
        "import pandas as pd\n",
        "import os"
      ]
    },
    {
      "cell_type": "code",
      "source": [
        "\n",
        "# Replace 'YOUR_API_KEY' with your actual YouTube Data API v3 key\n",
        "API_KEY = 'yourAPI'\n",
        "YOUTUBE_API_SERVICE_NAME = 'youtube'\n",
        "YOUTUBE_API_VERSION = 'v3'"
      ],
      "metadata": {
        "id": "J3bEj7n-RoEN"
      },
      "execution_count": 2,
      "outputs": []
    },
    {
      "cell_type": "code",
      "source": [
        "def youtube_search(query, max_results=100000):\n",
        "    all_videos = []\n",
        "    next_page_token = None\n",
        "    youtube = build(YOUTUBE_API_SERVICE_NAME, YOUTUBE_API_VERSION, developerKey=API_KEY)\n",
        "\n",
        "    while len(all_videos) < max_results:\n",
        "        # Call the search.list method to retrieve results matching the specified query term, sorted by date.\n",
        "        search_response = youtube.search().list(\n",
        "            q=query,\n",
        "            part='id,snippet',\n",
        "            maxResults=50,  # API's max limit per request\n",
        "            order='date',  # Sort the search results by date\n",
        "            pageToken=next_page_token,\n",
        "            type='video'\n",
        "        ).execute()\n",
        "\n",
        "        for search_result in search_response.get('items', []):\n",
        "            video_id = search_result['id']['videoId']\n",
        "            video_title = search_result['snippet']['title']\n",
        "            video_url = f\"https://www.youtube.com/watch?v={video_id}\"\n",
        "            channel_title = search_result['snippet']['channelTitle']\n",
        "            published_at = search_result['snippet']['publishedAt']\n",
        "\n",
        "            # Get additional details from the videos.list method\n",
        "            video_response = youtube.videos().list(\n",
        "                part='statistics',\n",
        "                id=video_id\n",
        "            ).execute()\n",
        "\n",
        "            # Extract the number of comments, if available\n",
        "            if 'items' in video_response and video_response['items']:\n",
        "                video_comments = video_response['items'][0]['statistics'].get('commentCount', 'Not available')\n",
        "            else:\n",
        "                video_comments = 'Not available'\n",
        "\n",
        "            all_videos.append({\n",
        "                'Title': video_title,\n",
        "                'URL': video_url,\n",
        "                'Source': channel_title,\n",
        "                'Published At': published_at,\n",
        "                'Comments': video_comments\n",
        "            })\n",
        "\n",
        "        next_page_token = search_response.get('nextPageToken')\n",
        "        if not next_page_token or len(all_videos) >= max_results:\n",
        "            break  # Exit loop if no more pages or reached max_results\n",
        "\n",
        "    return all_videos[:max_results]\n",
        "\n",
        "if __name__ == '__main__':\n",
        "    query = 'Chatgpt'\n",
        "    max_results_desired = 10000  # Set a reasonable number due to quota limits\n",
        "    results = youtube_search(query, max_results=max_results_desired)\n",
        "    df = pd.DataFrame(results)\n",
        "    filename = f\"{query.replace(' ', '_')}_youtube_search_results.csv\"\n",
        "    df.to_csv(filename, index=False, encoding='utf-8')\n",
        "    print(f\"Saved search results to {filename}\")\n",
        "\n"
      ],
      "metadata": {
        "colab": {
          "base_uri": "https://localhost:8080/"
        },
        "id": "jRxZc7D1YY2W",
        "outputId": "5bf04520-0afa-4290-9ab2-cf4b72e13a20"
      },
      "execution_count": 5,
      "outputs": [
        {
          "output_type": "stream",
          "name": "stdout",
          "text": [
            "Saved search results to Japan_youtube_search_results.csv\n"
          ]
        }
      ]
    }
  ]
}